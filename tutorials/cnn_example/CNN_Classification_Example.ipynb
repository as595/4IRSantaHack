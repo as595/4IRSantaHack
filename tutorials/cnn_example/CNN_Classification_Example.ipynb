{
 "cells": [
  {
   "cell_type": "code",
   "execution_count": 1,
   "metadata": {},
   "outputs": [],
   "source": [
    "import pylab as pl"
   ]
  },
  {
   "cell_type": "code",
   "execution_count": 2,
   "metadata": {},
   "outputs": [
    {
     "name": "stderr",
     "output_type": "stream",
     "text": [
      "Using TensorFlow backend.\n"
     ]
    }
   ],
   "source": [
    "from keras.preprocessing.image import ImageDataGenerator\n",
    "from keras.optimizers import Adam\n",
    "from sklearn.model_selection import train_test_split\n",
    "from keras.preprocessing.image import img_to_array\n",
    "from keras.utils import to_categorical\n",
    "from lenet import LeNet\n",
    "from imutils import paths\n",
    "import matplotlib.pyplot as plt\n",
    "import numpy as np\n",
    "import argparse\n",
    "import random\n",
    "import cv2\n",
    "import os"
   ]
  },
  {
   "cell_type": "code",
   "execution_count": 18,
   "metadata": {},
   "outputs": [],
   "source": [
    "dataset1 = '../../santa/'\n",
    "dataset2 = '../../notsanta/'\n",
    "modelname = './santa_model'"
   ]
  },
  {
   "cell_type": "code",
   "execution_count": 4,
   "metadata": {},
   "outputs": [],
   "source": [
    "# initialize the number of epochs to train for, initia learning rate,\n",
    "# and batch size\n",
    "EPOCHS = 25\n",
    "INIT_LR = 1e-3\n",
    "BS = 32"
   ]
  },
  {
   "cell_type": "code",
   "execution_count": 5,
   "metadata": {},
   "outputs": [
    {
     "name": "stdout",
     "output_type": "stream",
     "text": [
      "[INFO] loading images...\n"
     ]
    }
   ],
   "source": [
    "# initialize the data and labels\n",
    "print(\"[INFO] loading images...\")\n",
    "data = []\n",
    "labels = []"
   ]
  },
  {
   "cell_type": "code",
   "execution_count": 6,
   "metadata": {},
   "outputs": [],
   "source": [
    "# grab the image paths and randomly shuffle them\n",
    "imagePaths = sorted(list(paths.list_images(dataset1))+list(paths.list_images(dataset2)))\n",
    "random.seed(42)\n",
    "random.shuffle(imagePaths)"
   ]
  },
  {
   "cell_type": "code",
   "execution_count": 8,
   "metadata": {},
   "outputs": [],
   "source": [
    "# loop over the input images\n",
    "for imagePath in imagePaths:\n",
    "    # load the image, pre-process it, and store it in the data list\n",
    "    image = cv2.imread(imagePath)\n",
    "    image = cv2.resize(image, (28, 28))\n",
    "    image = img_to_array(image)\n",
    "    data.append(image)\n",
    "\n",
    "    # extract the class label from the image path and update the\n",
    "    # labels list\n",
    "    label = imagePath.split(os.path.sep)[-2]\n",
    "    label = 1 if label == \"santa\" else 0\n",
    "    labels.append(label)"
   ]
  },
  {
   "cell_type": "code",
   "execution_count": 9,
   "metadata": {},
   "outputs": [],
   "source": [
    "# scale the raw pixel intensities to the range [0, 1]\n",
    "data = np.array(data, dtype=\"float\") / 255.0\n",
    "labels = np.array(labels)"
   ]
  },
  {
   "cell_type": "code",
   "execution_count": 10,
   "metadata": {},
   "outputs": [],
   "source": [
    "# partition the data into training and testing splits using 75% of\n",
    "# the data for training and the remaining 25% for testing\n",
    "(trainX, testX, trainY, testY) = train_test_split(data, labels, test_size=0.25, random_state=42)\n"
   ]
  },
  {
   "cell_type": "code",
   "execution_count": 11,
   "metadata": {},
   "outputs": [],
   "source": [
    "# convert the labels from integers to vectors\n",
    "trainY = to_categorical(trainY, num_classes=2)\n",
    "testY = to_categorical(testY, num_classes=2)"
   ]
  },
  {
   "cell_type": "code",
   "execution_count": 12,
   "metadata": {},
   "outputs": [],
   "source": [
    "# construct the image generator for data augmentation\n",
    "aug = ImageDataGenerator(rotation_range=30, width_shift_range=0.1,height_shift_range=0.1, shear_range=0.2, zoom_range=0.2,horizontal_flip=True, fill_mode=\"nearest\")"
   ]
  },
  {
   "cell_type": "code",
   "execution_count": 20,
   "metadata": {},
   "outputs": [
    {
     "name": "stdout",
     "output_type": "stream",
     "text": [
      "[INFO] compiling model...\n"
     ]
    }
   ],
   "source": [
    "# initialize the model\n",
    "print(\"[INFO] compiling model...\")\n",
    "model = LeNet.build(width=28, height=28, depth=3, classes=2)\n",
    "opt = Adam(lr=INIT_LR, decay=INIT_LR / EPOCHS)\n",
    "model.compile(loss=\"binary_crossentropy\", optimizer=opt,metrics=[\"accuracy\"])"
   ]
  },
  {
   "cell_type": "code",
   "execution_count": 23,
   "metadata": {},
   "outputs": [
    {
     "name": "stdout",
     "output_type": "stream",
     "text": [
      "[INFO] training network...\n",
      "Epoch 1/25\n",
      "30/30 [==============================] - 2s 79ms/step - loss: 0.7155 - acc: 0.5396 - val_loss: 0.6980 - val_acc: 0.4677\n",
      "Epoch 2/25\n",
      "30/30 [==============================] - 2s 60ms/step - loss: 0.6684 - acc: 0.5884 - val_loss: 0.6242 - val_acc: 0.6738\n",
      "Epoch 3/25\n",
      "30/30 [==============================] - 2s 57ms/step - loss: 0.6254 - acc: 0.6693 - val_loss: 0.6082 - val_acc: 0.6369\n",
      "Epoch 4/25\n",
      "30/30 [==============================] - 2s 59ms/step - loss: 0.5781 - acc: 0.6950 - val_loss: 0.4971 - val_acc: 0.7692\n",
      "Epoch 5/25\n",
      "30/30 [==============================] - 2s 57ms/step - loss: 0.5261 - acc: 0.7453 - val_loss: 0.4587 - val_acc: 0.8246\n",
      "Epoch 6/25\n",
      "30/30 [==============================] - 2s 67ms/step - loss: 0.5734 - acc: 0.7262 - val_loss: 0.5260 - val_acc: 0.7292\n",
      "Epoch 7/25\n",
      "30/30 [==============================] - 2s 59ms/step - loss: 0.4818 - acc: 0.7782 - val_loss: 0.4348 - val_acc: 0.8031\n",
      "Epoch 8/25\n",
      "30/30 [==============================] - 2s 58ms/step - loss: 0.4477 - acc: 0.7944 - val_loss: 0.4323 - val_acc: 0.8338\n",
      "Epoch 9/25\n",
      "30/30 [==============================] - 2s 59ms/step - loss: 0.4303 - acc: 0.7950 - val_loss: 0.4315 - val_acc: 0.8062\n",
      "Epoch 10/25\n",
      "30/30 [==============================] - 2s 60ms/step - loss: 0.4289 - acc: 0.8084 - val_loss: 0.4510 - val_acc: 0.7969\n",
      "Epoch 11/25\n",
      "30/30 [==============================] - 2s 70ms/step - loss: 0.4255 - acc: 0.8053 - val_loss: 0.4532 - val_acc: 0.7938\n",
      "Epoch 12/25\n",
      "30/30 [==============================] - 2s 60ms/step - loss: 0.3687 - acc: 0.8278 - val_loss: 0.4355 - val_acc: 0.8092\n",
      "Epoch 13/25\n",
      "30/30 [==============================] - 2s 66ms/step - loss: 0.4183 - acc: 0.8286 - val_loss: 0.4168 - val_acc: 0.8154\n",
      "Epoch 14/25\n",
      "30/30 [==============================] - 2s 62ms/step - loss: 0.3684 - acc: 0.8411 - val_loss: 0.5807 - val_acc: 0.7692\n",
      "Epoch 15/25\n",
      "30/30 [==============================] - 2s 71ms/step - loss: 0.3783 - acc: 0.8236 - val_loss: 0.4097 - val_acc: 0.8246\n",
      "Epoch 16/25\n",
      "30/30 [==============================] - 2s 72ms/step - loss: 0.3581 - acc: 0.8432 - val_loss: 0.4578 - val_acc: 0.8123\n",
      "Epoch 17/25\n",
      "30/30 [==============================] - 2s 67ms/step - loss: 0.3827 - acc: 0.8313 - val_loss: 0.4054 - val_acc: 0.8092\n",
      "Epoch 18/25\n",
      "30/30 [==============================] - 2s 63ms/step - loss: 0.3390 - acc: 0.8568 - val_loss: 0.4836 - val_acc: 0.8031\n",
      "Epoch 19/25\n",
      "30/30 [==============================] - 2s 58ms/step - loss: 0.3592 - acc: 0.8480 - val_loss: 0.5234 - val_acc: 0.7938\n",
      "Epoch 20/25\n",
      "30/30 [==============================] - 2s 59ms/step - loss: 0.3218 - acc: 0.8584 - val_loss: 0.4318 - val_acc: 0.8431\n",
      "Epoch 21/25\n",
      "30/30 [==============================] - 2s 58ms/step - loss: 0.2995 - acc: 0.8688 - val_loss: 0.4881 - val_acc: 0.8123\n",
      "Epoch 22/25\n",
      "30/30 [==============================] - 2s 58ms/step - loss: 0.2888 - acc: 0.8916 - val_loss: 0.4277 - val_acc: 0.8462\n",
      "Epoch 23/25\n",
      "30/30 [==============================] - 2s 58ms/step - loss: 0.2834 - acc: 0.8761 - val_loss: 0.3921 - val_acc: 0.8462\n",
      "Epoch 24/25\n",
      "30/30 [==============================] - 2s 58ms/step - loss: 0.3159 - acc: 0.8580 - val_loss: 0.5135 - val_acc: 0.8308\n",
      "Epoch 25/25\n",
      "30/30 [==============================] - 2s 59ms/step - loss: 0.3322 - acc: 0.8635 - val_loss: 0.4865 - val_acc: 0.8185\n"
     ]
    }
   ],
   "source": [
    "# train the network\n",
    "print(\"[INFO] training network...\")\n",
    "H = model.fit_generator(aug.flow(trainX, trainY, batch_size=BS), validation_data=(testX, testY), steps_per_epoch=len(trainX) // BS, epochs=EPOCHS, verbose=1)"
   ]
  },
  {
   "cell_type": "code",
   "execution_count": 24,
   "metadata": {},
   "outputs": [
    {
     "name": "stdout",
     "output_type": "stream",
     "text": [
      "[INFO] serializing network...\n"
     ]
    }
   ],
   "source": [
    "# save the model to disk\n",
    "print(\"[INFO] serializing network...\")\n",
    "model.save(modelname)"
   ]
  },
  {
   "cell_type": "code",
   "execution_count": 25,
   "metadata": {},
   "outputs": [
    {
     "data": {
      "image/png": "[encoded data removed]",
      "text/plain": [
       "<Figure size 432x288 with 1 Axes>"
      ]
     },
     "metadata": {},
     "output_type": "display_data"
    }
   ],
   "source": [
    "# plot the training loss and accuracy\n",
    "pl.style.use(\"ggplot\")\n",
    "pl.figure()\n",
    "N = EPOCHS\n",
    "pl.plot(np.arange(0, N), H.history[\"loss\"], label=\"train_loss\")\n",
    "pl.plot(np.arange(0, N), H.history[\"val_loss\"], label=\"val_loss\")\n",
    "pl.plot(np.arange(0, N), H.history[\"acc\"], label=\"train_acc\")\n",
    "pl.plot(np.arange(0, N), H.history[\"val_acc\"], label=\"val_acc\")\n",
    "pl.title(\"Training Loss and Accuracy on Santa/Not Santa\")\n",
    "pl.xlabel(\"Epoch #\")\n",
    "pl.ylabel(\"Loss/Accuracy\")\n",
    "pl.legend(loc=\"lower left\")\n",
    "pl.savefig(\"output.png\")"
   ]
  },
  {
   "cell_type": "code",
   "execution_count": null,
   "metadata": {},
   "outputs": [],
   "source": []
  }
 ],
 "metadata": {
  "kernelspec": {
   "display_name": "Python 3",
   "language": "python",
   "name": "python3"
  },
  "language_info": {
   "codemirror_mode": {
    "name": "ipython",
    "version": 3
   },
   "file_extension": ".py",
   "mimetype": "text/x-python",
   "name": "python",
   "nbconvert_exporter": "python",
   "pygments_lexer": "ipython3",
   "version": "3.6.7"
  }
 },
 "nbformat": 4,
 "nbformat_minor": 2
}
