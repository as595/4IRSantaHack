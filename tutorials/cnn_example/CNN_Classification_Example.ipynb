{
 "cells": [
  {
   "cell_type": "code",
   "execution_count": 1,
   "metadata": {},
   "outputs": [
    {
     "name": "stderr",
     "output_type": "stream",
     "text": [
      "Using TensorFlow backend.\n"
     ]
    }
   ],
   "source": [
    "from keras.preprocessing.image import ImageDataGenerator\n",
    "from keras.optimizers import Adam\n",
    "from keras.preprocessing.image import img_to_array\n",
    "from keras.utils import to_categorical"
   ]
  },
  {
   "cell_type": "code",
   "execution_count": 2,
   "metadata": {},
   "outputs": [],
   "source": [
    "from sklearn.model_selection import train_test_split"
   ]
  },
  {
   "cell_type": "code",
   "execution_count": 3,
   "metadata": {},
   "outputs": [],
   "source": [
    "import imutils\n",
    "from imutils import paths\n",
    "import pylab as pl\n",
    "import numpy as np\n",
    "import random\n",
    "import cv2\n",
    "import os"
   ]
  },
  {
   "cell_type": "code",
   "execution_count": 4,
   "metadata": {},
   "outputs": [],
   "source": [
    "from lenet import LeNet"
   ]
  },
  {
   "cell_type": "markdown",
   "metadata": {},
   "source": [
    "---\n",
    "\n",
    "To start with we need to **train** our machine learning model.\n",
    "\n",
    "First tell the code where the data are:"
   ]
  },
  {
   "cell_type": "code",
   "execution_count": 5,
   "metadata": {},
   "outputs": [],
   "source": [
    "dataset1 = '../../santa/'\n",
    "dataset2 = '../../notsanta/'"
   ]
  },
  {
   "cell_type": "markdown",
   "metadata": {},
   "source": [
    "Then specify a filename for where we're going to store the trained machine learning model:"
   ]
  },
  {
   "cell_type": "code",
   "execution_count": 6,
   "metadata": {},
   "outputs": [],
   "source": [
    "modelname = './santa_model'"
   ]
  },
  {
   "cell_type": "markdown",
   "metadata": {},
   "source": [
    "Next define parameters to initialize the number of epochs to train for, the initial learning rate, and the batch size:"
   ]
  },
  {
   "cell_type": "code",
   "execution_count": 7,
   "metadata": {},
   "outputs": [],
   "source": [
    "EPOCHS = 25\n",
    "INIT_LR = 1e-3\n",
    "BS = 32"
   ]
  },
  {
   "cell_type": "markdown",
   "metadata": {},
   "source": [
    "Let's make some empty lists to put our data and labels into:"
   ]
  },
  {
   "cell_type": "code",
   "execution_count": 8,
   "metadata": {},
   "outputs": [],
   "source": [
    "data = []\n",
    "labels = []"
   ]
  },
  {
   "cell_type": "markdown",
   "metadata": {},
   "source": [
    "grab the paths to all the images and randomly shuffle them:"
   ]
  },
  {
   "cell_type": "code",
   "execution_count": 9,
   "metadata": {},
   "outputs": [],
   "source": [
    "imagePaths = sorted(list(paths.list_images(dataset1))+list(paths.list_images(dataset2)))\n",
    "random.seed(42)\n",
    "random.shuffle(imagePaths)"
   ]
  },
  {
   "cell_type": "markdown",
   "metadata": {},
   "source": [
    "Then we loop over the input imagepaths and put the image data into our data list and the corresponding label into a label list:"
   ]
  },
  {
   "cell_type": "code",
   "execution_count": 10,
   "metadata": {},
   "outputs": [],
   "source": [
    "for imagePath in imagePaths:\n",
    "    \n",
    "    # load the image, pre-process it, and store it in the data list\n",
    "    image = cv2.imread(imagePath)\n",
    "    image = cv2.resize(image, (28, 28))\n",
    "    image = img_to_array(image)\n",
    "    data.append(image)\n",
    "\n",
    "    # extract the class label from the image path and update the\n",
    "    # labels list\n",
    "    label = imagePath.split(os.path.sep)[-2]\n",
    "    label = 1 if label == \"santa\" else 0\n",
    "    labels.append(label)"
   ]
  },
  {
   "cell_type": "markdown",
   "metadata": {},
   "source": [
    "Then scale the raw pixel intensities to the range [0, 1] :"
   ]
  },
  {
   "cell_type": "code",
   "execution_count": 11,
   "metadata": {},
   "outputs": [],
   "source": [
    "data = np.array(data, dtype=\"float\") / 255.0\n",
    "labels = np.array(labels)"
   ]
  },
  {
   "cell_type": "markdown",
   "metadata": {},
   "source": [
    "partition the data into training and testing splits using 75% of the data for training and the remaining 25% for testing:"
   ]
  },
  {
   "cell_type": "code",
   "execution_count": 12,
   "metadata": {},
   "outputs": [],
   "source": [
    "(trainX, testX, trainY, testY) = train_test_split(data, labels, test_size=0.25, random_state=42)"
   ]
  },
  {
   "cell_type": "markdown",
   "metadata": {},
   "source": [
    "convert the labels from integers to vectors:"
   ]
  },
  {
   "cell_type": "code",
   "execution_count": 13,
   "metadata": {},
   "outputs": [],
   "source": [
    "trainY = to_categorical(trainY, num_classes=2)\n",
    "testY = to_categorical(testY, num_classes=2)"
   ]
  },
  {
   "cell_type": "markdown",
   "metadata": {},
   "source": [
    "construct the image generator for data augmentation:"
   ]
  },
  {
   "cell_type": "code",
   "execution_count": 14,
   "metadata": {},
   "outputs": [],
   "source": [
    "aug = ImageDataGenerator(rotation_range=30, width_shift_range=0.1,height_shift_range=0.1, shear_range=0.2, zoom_range=0.2,horizontal_flip=True, fill_mode=\"nearest\")"
   ]
  },
  {
   "cell_type": "markdown",
   "metadata": {},
   "source": [
    "Initialize the machine learning model. \n",
    "\n",
    "Our images now have *height x width = 28 x 28* and they are RGB images which means that they have *3 channels*."
   ]
  },
  {
   "cell_type": "code",
   "execution_count": 15,
   "metadata": {},
   "outputs": [],
   "source": [
    "model = LeNet.build(width=28, height=28, chan=3, classes=2)\n",
    "opt = Adam(lr=INIT_LR, decay=INIT_LR / EPOCHS)\n",
    "model.compile(loss=\"binary_crossentropy\", optimizer=opt, metrics=[\"accuracy\"])"
   ]
  },
  {
   "cell_type": "markdown",
   "metadata": {},
   "source": [
    "Then train the network:"
   ]
  },
  {
   "cell_type": "code",
   "execution_count": 16,
   "metadata": {},
   "outputs": [
    {
     "name": "stdout",
     "output_type": "stream",
     "text": [
      "Epoch 1/25\n",
      "15/15 [==============================] - 2s 162ms/step - loss: 0.7054 - acc: 0.5563 - val_loss: 0.6661 - val_acc: 0.5828\n",
      "Epoch 2/25\n",
      "15/15 [==============================] - 1s 94ms/step - loss: 0.6616 - acc: 0.6086 - val_loss: 0.6028 - val_acc: 0.7485\n",
      "Epoch 3/25\n",
      "15/15 [==============================] - 2s 110ms/step - loss: 0.6214 - acc: 0.6400 - val_loss: 0.6229 - val_acc: 0.6074\n",
      "Epoch 4/25\n",
      "15/15 [==============================] - 2s 109ms/step - loss: 0.5904 - acc: 0.6755 - val_loss: 0.5744 - val_acc: 0.6380\n",
      "Epoch 5/25\n",
      "15/15 [==============================] - 1s 80ms/step - loss: 0.5296 - acc: 0.7320 - val_loss: 0.5012 - val_acc: 0.7301\n",
      "Epoch 6/25\n",
      "15/15 [==============================] - 1s 77ms/step - loss: 0.5218 - acc: 0.7385 - val_loss: 0.4574 - val_acc: 0.8282\n",
      "Epoch 7/25\n",
      "15/15 [==============================] - 1s 75ms/step - loss: 0.5078 - acc: 0.7699 - val_loss: 0.5212 - val_acc: 0.7362\n",
      "Epoch 8/25\n",
      "15/15 [==============================] - 1s 75ms/step - loss: 0.4818 - acc: 0.7572 - val_loss: 0.4264 - val_acc: 0.8650\n",
      "Epoch 9/25\n",
      "15/15 [==============================] - 1s 75ms/step - loss: 0.4370 - acc: 0.8076 - val_loss: 0.4407 - val_acc: 0.8037\n",
      "Epoch 10/25\n",
      "15/15 [==============================] - 1s 74ms/step - loss: 0.4465 - acc: 0.7971 - val_loss: 0.4362 - val_acc: 0.8466\n",
      "Epoch 11/25\n",
      "15/15 [==============================] - 2s 107ms/step - loss: 0.4393 - acc: 0.8033 - val_loss: 0.4166 - val_acc: 0.8344\n",
      "Epoch 12/25\n",
      "15/15 [==============================] - 1s 79ms/step - loss: 0.3890 - acc: 0.8159 - val_loss: 0.4115 - val_acc: 0.8344\n",
      "Epoch 13/25\n",
      "15/15 [==============================] - 1s 76ms/step - loss: 0.3967 - acc: 0.8368 - val_loss: 0.4895 - val_acc: 0.7607\n",
      "Epoch 14/25\n",
      "15/15 [==============================] - 1s 75ms/step - loss: 0.3756 - acc: 0.8411 - val_loss: 0.4580 - val_acc: 0.7975\n",
      "Epoch 15/25\n",
      "15/15 [==============================] - 1s 75ms/step - loss: 0.3779 - acc: 0.8285 - val_loss: 0.4124 - val_acc: 0.8405\n",
      "Epoch 16/25\n",
      "15/15 [==============================] - 1s 77ms/step - loss: 0.4074 - acc: 0.8137 - val_loss: 0.4425 - val_acc: 0.8098\n",
      "Epoch 17/25\n",
      "15/15 [==============================] - 1s 78ms/step - loss: 0.3479 - acc: 0.8500 - val_loss: 0.4167 - val_acc: 0.8098\n",
      "Epoch 18/25\n",
      "15/15 [==============================] - 1s 76ms/step - loss: 0.3883 - acc: 0.8495 - val_loss: 0.4981 - val_acc: 0.7546\n",
      "Epoch 19/25\n",
      "15/15 [==============================] - 1s 75ms/step - loss: 0.3618 - acc: 0.8516 - val_loss: 0.4266 - val_acc: 0.8098\n",
      "Epoch 20/25\n",
      "15/15 [==============================] - 1s 85ms/step - loss: 0.3263 - acc: 0.8682 - val_loss: 0.4190 - val_acc: 0.8098\n",
      "Epoch 21/25\n",
      "15/15 [==============================] - 2s 105ms/step - loss: 0.3965 - acc: 0.8347 - val_loss: 0.4193 - val_acc: 0.8282\n",
      "Epoch 22/25\n",
      "15/15 [==============================] - 1s 80ms/step - loss: 0.2753 - acc: 0.9080 - val_loss: 0.7126 - val_acc: 0.7362\n",
      "Epoch 23/25\n",
      "15/15 [==============================] - 1s 76ms/step - loss: 0.3985 - acc: 0.8243 - val_loss: 0.4257 - val_acc: 0.8466\n",
      "Epoch 24/25\n",
      "15/15 [==============================] - 1s 78ms/step - loss: 0.3148 - acc: 0.8765 - val_loss: 0.4160 - val_acc: 0.8221\n",
      "Epoch 25/25\n",
      "15/15 [==============================] - 1s 77ms/step - loss: 0.3780 - acc: 0.8681 - val_loss: 0.4253 - val_acc: 0.8528\n"
     ]
    }
   ],
   "source": [
    "H = model.fit_generator(aug.flow(trainX, trainY, batch_size=BS), validation_data=(testX, testY), steps_per_epoch=len(trainX) // BS, epochs=EPOCHS, verbose=1)"
   ]
  },
  {
   "cell_type": "markdown",
   "metadata": {},
   "source": [
    "To save us re-training the network every time we can save the model:"
   ]
  },
  {
   "cell_type": "code",
   "execution_count": 17,
   "metadata": {},
   "outputs": [],
   "source": [
    "model.save(modelname)"
   ]
  },
  {
   "cell_type": "markdown",
   "metadata": {},
   "source": [
    "Let's plot the training loss and accuracy:"
   ]
  },
  {
   "cell_type": "code",
   "execution_count": 18,
   "metadata": {},
   "outputs": [
    {
     "data": {
      "image/png": "[encoded data removed]",
      "text/plain": [
       "<Figure size 432x288 with 1 Axes>"
      ]
     },
     "metadata": {},
     "output_type": "display_data"
    }
   ],
   "source": [
    "pl.style.use(\"ggplot\")\n",
    "pl.figure()\n",
    "N = EPOCHS\n",
    "pl.plot(np.arange(0, N), H.history[\"loss\"], label=\"train_loss\")\n",
    "pl.plot(np.arange(0, N), H.history[\"val_loss\"], label=\"val_loss\")\n",
    "pl.plot(np.arange(0, N), H.history[\"acc\"], label=\"train_acc\")\n",
    "pl.plot(np.arange(0, N), H.history[\"val_acc\"], label=\"val_acc\")\n",
    "pl.title(\"Training Loss and Accuracy on Santa/Not Santa\")\n",
    "pl.xlabel(\"Epoch #\")\n",
    "pl.ylabel(\"Loss/Accuracy\")\n",
    "pl.legend(loc=\"lower left\")\n",
    "pl.savefig(\"output.png\")"
   ]
  },
  {
   "cell_type": "markdown",
   "metadata": {},
   "source": [
    "---\n",
    "\n",
    "Now we have a trained machine learning model we can **test** our classifier.\n",
    "\n",
    "We need to pick a test image:"
   ]
  },
  {
   "cell_type": "code",
   "execution_count": null,
   "metadata": {},
   "outputs": [],
   "source": [
    "testimage=\"../../santa/00000171.jpg\""
   ]
  },
  {
   "cell_type": "code",
   "execution_count": null,
   "metadata": {},
   "outputs": [],
   "source": [
    "# pre-process the image for classification\n",
    "image = cv2.imread(testimage)\n",
    "orig = image.copy()\n",
    "image = cv2.resize(image, (28, 28))\n",
    "image = image.astype(\"float\") / 255.0\n",
    "image = img_to_array(image)\n",
    "image = np.expand_dims(image, axis=0)"
   ]
  },
  {
   "cell_type": "code",
   "execution_count": null,
   "metadata": {},
   "outputs": [],
   "source": [
    "(notSanta, santa) = model.predict(image)[0]"
   ]
  },
  {
   "cell_type": "code",
   "execution_count": null,
   "metadata": {},
   "outputs": [],
   "source": [
    "label = \"Santa\" if santa > notSanta else \"Not Santa\"\n",
    "proba = santa if santa > notSanta else notSanta\n",
    "label = \"{}: {:.2f}%\".format(label, proba * 100)"
   ]
  },
  {
   "cell_type": "code",
   "execution_count": null,
   "metadata": {},
   "outputs": [
    {
     "data": {
      "text/plain": [
       "array([[[249, 190, 154],\n",
       "        [252, 202, 162],\n",
       "        [254, 216, 175],\n",
       "        ...,\n",
       "        [255, 255, 246],\n",
       "        [255, 255, 245],\n",
       "        [255, 255, 245]],\n",
       "\n",
       "       [[250, 209, 165],\n",
       "        [249, 203, 156],\n",
       "        [254, 220, 184],\n",
       "        ...,\n",
       "        [255, 255, 248],\n",
       "        [255, 255, 247],\n",
       "        [255, 255, 245]],\n",
       "\n",
       "       [[232, 182, 138],\n",
       "        [241, 188, 145],\n",
       "        [238, 177, 145],\n",
       "        ...,\n",
       "        [255, 255, 245],\n",
       "        [255, 255, 245],\n",
       "        [255, 255, 245]],\n",
       "\n",
       "       ...,\n",
       "\n",
       "       [[255, 218, 179],\n",
       "        [255, 218, 181],\n",
       "        [254, 217, 179],\n",
       "        ...,\n",
       "        [254, 229, 204],\n",
       "        [255, 229, 203],\n",
       "        [254, 227, 201]],\n",
       "\n",
       "       [[255, 216, 177],\n",
       "        [254, 216, 177],\n",
       "        [254, 214, 177],\n",
       "        ...,\n",
       "        [254, 228, 202],\n",
       "        [255, 227, 201],\n",
       "        [255, 226, 200]],\n",
       "\n",
       "       [[254, 213, 174],\n",
       "        [255, 212, 171],\n",
       "        [254, 213, 173],\n",
       "        ...,\n",
       "        [255, 227, 199],\n",
       "        [255, 225, 200],\n",
       "        [255, 225, 200]]], dtype=uint8)"
      ]
     },
     "execution_count": 23,
     "metadata": {},
     "output_type": "execute_result"
    }
   ],
   "source": [
    "output = imutils.resize(orig, width=400)\n",
    "cv2.putText(output, label, (10, 25),  cv2.FONT_HERSHEY_SIMPLEX, 0.7, (0, 255, 0), 2)"
   ]
  },
  {
   "cell_type": "code",
   "execution_count": null,
   "metadata": {},
   "outputs": [],
   "source": [
    "cv2.imshow(\"Output\", output)\n",
    "cv2.waitKey(0)"
   ]
  }
 ],
 "metadata": {
  "kernelspec": {
   "display_name": "Python 3",
   "language": "python",
   "name": "python3"
  },
  "language_info": {
   "codemirror_mode": {
    "name": "ipython",
    "version": 3
   },
   "file_extension": ".py",
   "mimetype": "text/x-python",
   "name": "python",
   "nbconvert_exporter": "python",
   "pygments_lexer": "ipython3",
   "version": "3.6.7"
  }
 },
 "nbformat": 4,
 "nbformat_minor": 2
}
