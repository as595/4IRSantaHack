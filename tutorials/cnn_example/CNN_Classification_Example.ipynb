{
 "cells": [
  {
   "cell_type": "code",
   "execution_count": 1,
   "metadata": {},
   "outputs": [
    {
     "name": "stderr",
     "output_type": "stream",
     "text": [
      "Using TensorFlow backend.\n"
     ]
    }
   ],
   "source": [
    "from keras.preprocessing.image import ImageDataGenerator\n",
    "from keras.optimizers import Adam\n",
    "from keras.preprocessing.image import img_to_array\n",
    "from keras.utils import to_categorical"
   ]
  },
  {
   "cell_type": "code",
   "execution_count": 2,
   "metadata": {},
   "outputs": [],
   "source": [
    "from sklearn.model_selection import train_test_split"
   ]
  },
  {
   "cell_type": "code",
   "execution_count": 3,
   "metadata": {},
   "outputs": [],
   "source": [
    "import imutils\n",
    "from imutils import paths\n",
    "import pylab as pl\n",
    "import numpy as np\n",
    "import random\n",
    "import cv2\n",
    "import os"
   ]
  },
  {
   "cell_type": "code",
   "execution_count": 4,
   "metadata": {},
   "outputs": [],
   "source": [
    "from lenet import LeNet"
   ]
  },
  {
   "cell_type": "markdown",
   "metadata": {},
   "source": [
    "---\n",
    "\n",
    "To start with we need to **train** our machine learning model.\n",
    "\n",
    "To train the machine learning model for the CNN we first need to tell the code where to find the input training data."
   ]
  },
  {
   "cell_type": "code",
   "execution_count": 5,
   "metadata": {},
   "outputs": [],
   "source": [
    "dataset1 = '../../santa/'\n",
    "dataset2 = '../../notsanta/'"
   ]
  },
  {
   "cell_type": "markdown",
   "metadata": {},
   "source": [
    "Then specify a filename for where we're going to store the trained machine learning model we're going to make:"
   ]
  },
  {
   "cell_type": "code",
   "execution_count": 6,
   "metadata": {},
   "outputs": [],
   "source": [
    "modelname = './santa_model'"
   ]
  },
  {
   "cell_type": "markdown",
   "metadata": {},
   "source": [
    "Next define parameters to initialize the number of epochs to train for and the batch size:"
   ]
  },
  {
   "cell_type": "code",
   "execution_count": 7,
   "metadata": {},
   "outputs": [],
   "source": [
    "EPOCHS = 25\n",
    "BS = 32"
   ]
  },
  {
   "cell_type": "markdown",
   "metadata": {},
   "source": [
    "Then set the initial learning rate:"
   ]
  },
  {
   "cell_type": "code",
   "execution_count": 8,
   "metadata": {},
   "outputs": [],
   "source": [
    "INIT_LR = 1e-3"
   ]
  },
  {
   "cell_type": "markdown",
   "metadata": {},
   "source": [
    "We need to read all of the data into data arrays - and to make a corresponding array of labels for those data."
   ]
  },
  {
   "cell_type": "code",
   "execution_count": 9,
   "metadata": {},
   "outputs": [],
   "source": [
    "data = []\n",
    "labels = []"
   ]
  },
  {
   "cell_type": "markdown",
   "metadata": {},
   "source": [
    "We want to make sure that the data are in a completely random order, so we'll shuffle all the data as we read it in."
   ]
  },
  {
   "cell_type": "code",
   "execution_count": 10,
   "metadata": {},
   "outputs": [],
   "source": [
    "imagePaths = sorted(list(paths.list_images(dataset1))+list(paths.list_images(dataset2)))\n",
    "random.seed(42)\n",
    "random.shuffle(imagePaths)"
   ]
  },
  {
   "cell_type": "markdown",
   "metadata": {},
   "source": [
    "Training is computationally expensive, so we'll resize all our data and make the images a bit smaller. They all also need to be the same size."
   ]
  },
  {
   "cell_type": "code",
   "execution_count": 11,
   "metadata": {},
   "outputs": [],
   "source": [
    "for imagePath in imagePaths:\n",
    "    \n",
    "    # load the image, pre-process it, and store it in the data list\n",
    "    image = cv2.imread(imagePath)\n",
    "    image = cv2.resize(image, (28, 28))\n",
    "    image = img_to_array(image)\n",
    "    data.append(image)\n",
    "\n",
    "    # extract the class label from the image path and update the\n",
    "    # labels list\n",
    "    label = imagePath.split(os.path.sep)[-2]\n",
    "    label = 1 if label == \"santa\" else 0\n",
    "    labels.append(label)"
   ]
  },
  {
   "cell_type": "markdown",
   "metadata": {},
   "source": [
    "Re-scale the image array values to lie within the interval [0,1]:"
   ]
  },
  {
   "cell_type": "code",
   "execution_count": 12,
   "metadata": {},
   "outputs": [],
   "source": [
    "data = np.array(data, dtype=\"float\") / 255.0\n",
    "labels = np.array(labels)"
   ]
  },
  {
   "cell_type": "markdown",
   "metadata": {},
   "source": [
    "We're going to partition the data into training and testing splits. Here we're using 75% of the data for training and the remaining 25% for testing. We can use the scikit-learn function train_test_split to divide up our dataset into training and validation sets. The training_size is automatically *1 - test_size*."
   ]
  },
  {
   "cell_type": "code",
   "execution_count": 13,
   "metadata": {},
   "outputs": [],
   "source": [
    "(trainX, testX, trainY, testY) = train_test_split(data, labels, test_size=0.25, random_state=42)"
   ]
  },
  {
   "cell_type": "markdown",
   "metadata": {},
   "source": [
    "Then convert the labels from integers to vectors:"
   ]
  },
  {
   "cell_type": "code",
   "execution_count": 14,
   "metadata": {},
   "outputs": [],
   "source": [
    "trainY = to_categorical(trainY, num_classes=2)\n",
    "testY = to_categorical(testY, num_classes=2)"
   ]
  },
  {
   "cell_type": "markdown",
   "metadata": {},
   "source": [
    "We don't have a huge amount of data, so we'll augment the training dataset by rotating, shifting and generally jiggling the data that we have."
   ]
  },
  {
   "cell_type": "code",
   "execution_count": 15,
   "metadata": {},
   "outputs": [],
   "source": [
    "aug = ImageDataGenerator(rotation_range=30, width_shift_range=0.1,height_shift_range=0.1, shear_range=0.2, zoom_range=0.2,horizontal_flip=True, fill_mode=\"nearest\")"
   ]
  },
  {
   "cell_type": "markdown",
   "metadata": {},
   "source": [
    "Now let's build the machine learning model from LeNet.\n",
    "\n",
    "Our images have *height x width = 28 x 28* and they are RGB images which means that they have *3 channels*."
   ]
  },
  {
   "cell_type": "code",
   "execution_count": 16,
   "metadata": {},
   "outputs": [],
   "source": [
    "model = LeNet.build(width=28, height=28, chan=3, classes=2)\n",
    "opt = Adam(lr=INIT_LR, decay=INIT_LR / EPOCHS)\n",
    "model.compile(loss=\"binary_crossentropy\", optimizer=opt, metrics=[\"accuracy\"])"
   ]
  },
  {
   "cell_type": "markdown",
   "metadata": {},
   "source": [
    "Then train the network:"
   ]
  },
  {
   "cell_type": "code",
   "execution_count": 17,
   "metadata": {},
   "outputs": [
    {
     "name": "stdout",
     "output_type": "stream",
     "text": [
      "Epoch 1/25\n",
      "15/15 [==============================] - 2s 101ms/step - loss: 0.7058 - acc: 0.5729 - val_loss: 0.7636 - val_acc: 0.4233\n",
      "Epoch 2/25\n",
      "15/15 [==============================] - 1s 60ms/step - loss: 0.6881 - acc: 0.5499 - val_loss: 0.6548 - val_acc: 0.5706\n",
      "Epoch 3/25\n",
      "15/15 [==============================] - 1s 65ms/step - loss: 0.6575 - acc: 0.6464 - val_loss: 0.6223 - val_acc: 0.7607\n",
      "Epoch 4/25\n",
      "15/15 [==============================] - 1s 61ms/step - loss: 0.5761 - acc: 0.7176 - val_loss: 0.7731 - val_acc: 0.6074\n",
      "Epoch 5/25\n",
      "15/15 [==============================] - 1s 76ms/step - loss: 0.5398 - acc: 0.7113 - val_loss: 0.5156 - val_acc: 0.7791\n",
      "Epoch 6/25\n",
      "15/15 [==============================] - 1s 66ms/step - loss: 0.5239 - acc: 0.7510 - val_loss: 0.5921 - val_acc: 0.6564\n",
      "Epoch 7/25\n",
      "15/15 [==============================] - 1s 63ms/step - loss: 0.4725 - acc: 0.7866 - val_loss: 0.4639 - val_acc: 0.7853\n",
      "Epoch 8/25\n",
      "15/15 [==============================] - 1s 64ms/step - loss: 0.5008 - acc: 0.7468 - val_loss: 0.4641 - val_acc: 0.8098\n",
      "Epoch 9/25\n",
      "15/15 [==============================] - 1s 69ms/step - loss: 0.4740 - acc: 0.7824 - val_loss: 0.5098 - val_acc: 0.7975\n",
      "Epoch 10/25\n",
      "15/15 [==============================] - 1s 61ms/step - loss: 0.4882 - acc: 0.7761 - val_loss: 0.5352 - val_acc: 0.7239\n",
      "Epoch 11/25\n",
      "15/15 [==============================] - 1s 63ms/step - loss: 0.4374 - acc: 0.7865 - val_loss: 0.4731 - val_acc: 0.7975\n",
      "Epoch 12/25\n",
      "15/15 [==============================] - 1s 62ms/step - loss: 0.4760 - acc: 0.7718 - val_loss: 0.4756 - val_acc: 0.7730\n",
      "Epoch 13/25\n",
      "15/15 [==============================] - 1s 60ms/step - loss: 0.4431 - acc: 0.7804 - val_loss: 0.4847 - val_acc: 0.7975\n",
      "Epoch 14/25\n",
      "15/15 [==============================] - 1s 62ms/step - loss: 0.4184 - acc: 0.8265 - val_loss: 0.4491 - val_acc: 0.8098\n",
      "Epoch 15/25\n",
      "15/15 [==============================] - 1s 64ms/step - loss: 0.4305 - acc: 0.7949 - val_loss: 0.4530 - val_acc: 0.8037\n",
      "Epoch 16/25\n",
      "15/15 [==============================] - 1s 67ms/step - loss: 0.4549 - acc: 0.8096 - val_loss: 0.4585 - val_acc: 0.8037\n",
      "Epoch 17/25\n",
      "15/15 [==============================] - 1s 64ms/step - loss: 0.4290 - acc: 0.8042 - val_loss: 0.6302 - val_acc: 0.6871\n",
      "Epoch 18/25\n",
      "15/15 [==============================] - 1s 59ms/step - loss: 0.4273 - acc: 0.8180 - val_loss: 0.4514 - val_acc: 0.8037\n",
      "Epoch 19/25\n",
      "15/15 [==============================] - 1s 61ms/step - loss: 0.4462 - acc: 0.8033 - val_loss: 0.4671 - val_acc: 0.8221\n",
      "Epoch 20/25\n",
      "15/15 [==============================] - 1s 68ms/step - loss: 0.3852 - acc: 0.8348 - val_loss: 0.5372 - val_acc: 0.8037\n",
      "Epoch 21/25\n",
      "15/15 [==============================] - 1s 63ms/step - loss: 0.3694 - acc: 0.8452 - val_loss: 0.4650 - val_acc: 0.8037\n",
      "Epoch 22/25\n",
      "15/15 [==============================] - 1s 63ms/step - loss: 0.3700 - acc: 0.8284 - val_loss: 0.4899 - val_acc: 0.7914\n",
      "Epoch 23/25\n",
      "15/15 [==============================] - 1s 59ms/step - loss: 0.3955 - acc: 0.8221 - val_loss: 0.5092 - val_acc: 0.7791\n",
      "Epoch 24/25\n",
      "15/15 [==============================] - 1s 59ms/step - loss: 0.3688 - acc: 0.8411 - val_loss: 0.5048 - val_acc: 0.7853\n",
      "Epoch 25/25\n",
      "15/15 [==============================] - 1s 67ms/step - loss: 0.3651 - acc: 0.8411 - val_loss: 0.4311 - val_acc: 0.7975\n"
     ]
    }
   ],
   "source": [
    "H = model.fit_generator(aug.flow(trainX, trainY, batch_size=BS), validation_data=(testX, testY), steps_per_epoch=len(trainX) // BS, epochs=EPOCHS, verbose=1)"
   ]
  },
  {
   "cell_type": "markdown",
   "metadata": {},
   "source": [
    "Training machine learning models is expensive computationally, so we don't want to have to keep repeating this step. Instead we can save our trained model and reload it whenever we need to use it."
   ]
  },
  {
   "cell_type": "code",
   "execution_count": 18,
   "metadata": {},
   "outputs": [],
   "source": [
    "model.save(modelname)"
   ]
  },
  {
   "cell_type": "markdown",
   "metadata": {},
   "source": [
    "We can visualise the success of the training by looking at the variation in accuracy and loss as a function of epoch."
   ]
  },
  {
   "cell_type": "code",
   "execution_count": null,
   "metadata": {},
   "outputs": [
    {
     "data": {
      "image/png": "[encoded data removed]",
      "text/plain": [
       "<Figure size 432x288 with 1 Axes>"
      ]
     },
     "metadata": {},
     "output_type": "display_data"
    }
   ],
   "source": [
    "pl.style.use(\"ggplot\")\n",
    "pl.figure()\n",
    "N = EPOCHS\n",
    "pl.plot(np.arange(0, N), H.history[\"loss\"], label=\"train_loss\")\n",
    "pl.plot(np.arange(0, N), H.history[\"val_loss\"], label=\"val_loss\")\n",
    "pl.plot(np.arange(0, N), H.history[\"acc\"], label=\"train_acc\")\n",
    "pl.plot(np.arange(0, N), H.history[\"val_acc\"], label=\"val_acc\")\n",
    "pl.title(\"Training Loss and Accuracy on Santa/Not Santa\")\n",
    "pl.xlabel(\"Epoch #\")\n",
    "pl.ylabel(\"Loss/Accuracy\")\n",
    "pl.legend(loc=\"lower left\")\n",
    "pl.savefig(\"output.png\")"
   ]
  },
  {
   "cell_type": "markdown",
   "metadata": {},
   "source": [
    "---\n",
    "\n",
    "Now let's see how we did... (well, actually our accuracy already tells us how well we did, but it's nice to see the network in practice).\n",
    "\n",
    "We feed our network a test image,"
   ]
  },
  {
   "cell_type": "code",
   "execution_count": null,
   "metadata": {},
   "outputs": [],
   "source": [
    "testimage=\"../../santa/00000171.jpg\""
   ]
  },
  {
   "cell_type": "markdown",
   "metadata": {},
   "source": [
    "We need to apply the same pre-processing to this test image as we did with our training data:"
   ]
  },
  {
   "cell_type": "code",
   "execution_count": null,
   "metadata": {},
   "outputs": [],
   "source": [
    "# pre-process the image for classification\n",
    "image = cv2.imread(testimage)\n",
    "orig = image.copy()\n",
    "image = cv2.resize(image, (28, 28))\n",
    "image = image.astype(\"float\") / 255.0\n",
    "image = img_to_array(image)\n",
    "image = np.expand_dims(image, axis=0)"
   ]
  },
  {
   "cell_type": "markdown",
   "metadata": {},
   "source": [
    "We can now use the machine learning model to predict the class of this image. The output is a pair of probabilities, which represent the likelihood of the image being Santa or Not Santa. Normally the class is decided based on whichever is larger."
   ]
  },
  {
   "cell_type": "code",
   "execution_count": null,
   "metadata": {},
   "outputs": [],
   "source": [
    "(notSanta, santa) = model.predict(image)[0]"
   ]
  },
  {
   "cell_type": "markdown",
   "metadata": {},
   "source": [
    "We can then implement the classification."
   ]
  },
  {
   "cell_type": "code",
   "execution_count": null,
   "metadata": {},
   "outputs": [],
   "source": [
    "label = \"Santa\" if santa > notSanta else \"Not Santa\"\n",
    "proba = santa if santa > notSanta else notSanta\n",
    "label = \"{}: {:.2f}%\".format(label, proba * 100)"
   ]
  },
  {
   "cell_type": "code",
   "execution_count": null,
   "metadata": {},
   "outputs": [
    {
     "data": {
      "text/plain": [
       "array([[[249, 190, 154],\n",
       "        [252, 202, 162],\n",
       "        [254, 216, 175],\n",
       "        ...,\n",
       "        [255, 255, 246],\n",
       "        [255, 255, 245],\n",
       "        [255, 255, 245]],\n",
       "\n",
       "       [[250, 209, 165],\n",
       "        [249, 203, 156],\n",
       "        [254, 220, 184],\n",
       "        ...,\n",
       "        [255, 255, 248],\n",
       "        [255, 255, 247],\n",
       "        [255, 255, 245]],\n",
       "\n",
       "       [[232, 182, 138],\n",
       "        [241, 188, 145],\n",
       "        [238, 177, 145],\n",
       "        ...,\n",
       "        [255, 255, 245],\n",
       "        [255, 255, 245],\n",
       "        [255, 255, 245]],\n",
       "\n",
       "       ...,\n",
       "\n",
       "       [[255, 218, 179],\n",
       "        [255, 218, 181],\n",
       "        [254, 217, 179],\n",
       "        ...,\n",
       "        [254, 229, 204],\n",
       "        [255, 229, 203],\n",
       "        [254, 227, 201]],\n",
       "\n",
       "       [[255, 216, 177],\n",
       "        [254, 216, 177],\n",
       "        [254, 214, 177],\n",
       "        ...,\n",
       "        [254, 228, 202],\n",
       "        [255, 227, 201],\n",
       "        [255, 226, 200]],\n",
       "\n",
       "       [[254, 213, 174],\n",
       "        [255, 212, 171],\n",
       "        [254, 213, 173],\n",
       "        ...,\n",
       "        [255, 227, 199],\n",
       "        [255, 225, 200],\n",
       "        [255, 225, 200]]], dtype=uint8)"
      ]
     },
     "execution_count": 24,
     "metadata": {},
     "output_type": "execute_result"
    }
   ],
   "source": [
    "output = imutils.resize(orig, width=400)\n",
    "cv2.putText(output, label, (10, 25),  cv2.FONT_HERSHEY_SIMPLEX, 0.7, (0, 255, 0), 2)"
   ]
  },
  {
   "cell_type": "code",
   "execution_count": null,
   "metadata": {},
   "outputs": [],
   "source": [
    "cv2.imshow(\"Output\", output)\n",
    "cv2.waitKey(0)"
   ]
  }
 ],
 "metadata": {
  "kernelspec": {
   "display_name": "Python 3",
   "language": "python",
   "name": "python3"
  },
  "language_info": {
   "codemirror_mode": {
    "name": "ipython",
    "version": 3
   },
   "file_extension": ".py",
   "mimetype": "text/x-python",
   "name": "python",
   "nbconvert_exporter": "python",
   "pygments_lexer": "ipython3",
   "version": "3.6.7"
  }
 },
 "nbformat": 4,
 "nbformat_minor": 2
}
